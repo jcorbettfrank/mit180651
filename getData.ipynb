{
 "cells": [
  {
   "cell_type": "code",
   "execution_count": null,
   "metadata": {},
   "outputs": [],
   "source": [
    "from nba_api.stats.static import teams\n",
    "from nba_api.stats.endpoints import leaguegamefinder\n",
    "import os \n",
    "import pandas as pd\n",
    "import dateutil\n",
    "import sklearn.preprocessing as preprocess\n",
    "import numpy as np\n",
    "import pdb\n",
    "pd.options.display.max_columns  = 1000"
   ]
  },
  {
   "cell_type": "code",
   "execution_count": null,
   "metadata": {},
   "outputs": [],
   "source": [
    "data_dir = os.path.join(os.getcwd(),\"data\")\n",
    "if not os.path.exists(data_dir):\n",
    "    os.mkdir(data_dir)\n",
    "nba_teams = teams.get_teams()\n",
    "for team in nba_teams:\n",
    "    abbrev = team['abbreviation']\n",
    "    fn = os.path.join(data_dir, abbrev+\".csv\")\n",
    "    if not os.path.exists(fn):\n",
    "        team_id = team['id']\n",
    "        gamefinder = leaguegamefinder.LeagueGameFinder(team_id_nullable=team_id)\n",
    "        df = gamefinder.get_data_frames()[0]\n",
    "        df.to_csv(os.path.join(data_dir, abbrev + \".csv\"), index=False)"
   ]
  },
  {
   "cell_type": "markdown",
   "metadata": {},
   "source": [
    "Clean it "
   ]
  },
  {
   "cell_type": "code",
   "execution_count": null,
   "metadata": {},
   "outputs": [],
   "source": [
    "#combine into one df \n",
    "dfs = [None]*len(nba_teams)\n",
    "for idx, team in enumerate(nba_teams):\n",
    "    abbrev = team['abbreviation']\n",
    "    dfs[idx] = pd.read_csv(os.path.join(data_dir, abbrev+\".csv\"))\n",
    "df = pd.concat(dfs,ignore_index=True)\n",
    "df = df.drop(['PLUS_MINUS', 'FG3_PCT','FG_PCT','FT_PCT','WL'],axis=1)#there's missing vas or NANS (divide by 0 for pct)\n",
    "display(df.head())"
   ]
  },
  {
   "cell_type": "markdown",
   "metadata": {},
   "source": [
    "There are still some rows with missing values, but considering there are 40,000 games 10 is very good. I'm going\n",
    "to set these to 0 "
   ]
  },
  {
   "cell_type": "code",
   "execution_count": null,
   "metadata": {},
   "outputs": [],
   "source": [
    "df.shape[0]/2"
   ]
  },
  {
   "cell_type": "code",
   "execution_count": null,
   "metadata": {},
   "outputs": [],
   "source": [
    "naMask = np.any(df.isna().values, axis=1)\n",
    "df.loc[naMask]"
   ]
  },
  {
   "cell_type": "code",
   "execution_count": null,
   "metadata": {},
   "outputs": [],
   "source": [
    "df.fillna(0, inplace=True)\n",
    "df.loc[naMask]"
   ]
  },
  {
   "cell_type": "markdown",
   "metadata": {},
   "source": [
    "The GAME_IDs are not perfect. As seen below, there can be 1-4 instances \n",
    "with the same GAME_ID; ideally there should be 2 - one for each team that plays in that game. We can see that some games with overtimes are counted twice (which make"
   ]
  },
  {
   "cell_type": "code",
   "execution_count": null,
   "metadata": {
    "scrolled": true
   },
   "outputs": [],
   "source": [
    "UID, count = np.unique(df['GAME_ID'], return_counts=True)\n",
    "notTWO = count != 2\n",
    "badUIDs = UID[notTWO]\n",
    "display(count[notTWO])\n",
    "isBadMask = np.isin(df['GAME_ID'], UID[notTWO])\n",
    "display(df[isBadMask].sort_values(by=['GAME_ID']))"
   ]
  },
  {
   "cell_type": "code",
   "execution_count": null,
   "metadata": {},
   "outputs": [],
   "source": [
    "sum(isBadMask)/df.shape[0] #only .3% of the data is bad so going to throw it out"
   ]
  },
  {
   "cell_type": "code",
   "execution_count": null,
   "metadata": {},
   "outputs": [],
   "source": [
    "drop1 = df[np.logical_not(isBadMask)].copy()"
   ]
  },
  {
   "cell_type": "code",
   "execution_count": null,
   "metadata": {},
   "outputs": [],
   "source": [
    "#ok we also need to verify that of gameIDs with two instances those instances belong to separate teams\n",
    "teams = pd.unique(drop1['TEAM_ABBREVIATION'])\n",
    "badIDs = []\n",
    "for team in teams:\n",
    "    team_df = drop1[drop1['TEAM_ABBREVIATION'] == team]\n",
    "    ids, counts = np.unique(team_df['GAME_ID'].values, return_counts=True)\n",
    "    badIDs += list(ids[counts > 1])\n",
    "    if np.any(counts > 1):\n",
    "        print(team)\n",
    "    \n",
    "print(badIDs) \n",
    "    "
   ]
  },
  {
   "cell_type": "code",
   "execution_count": null,
   "metadata": {},
   "outputs": [],
   "source": [
    "#so only one bad ID\n",
    "drop2 = drop1[np.logical_not(np.isin(drop1['GAME_ID'], badIDs))].copy()"
   ]
  },
  {
   "cell_type": "code",
   "execution_count": null,
   "metadata": {},
   "outputs": [],
   "source": [
    "print(drop2.size)\n",
    "display(drop2.head())"
   ]
  },
  {
   "cell_type": "code",
   "execution_count": null,
   "metadata": {},
   "outputs": [],
   "source": [
    "#ok at this point we know that there are two teams per GAME_ID and those teams are different. There are also\n",
    "#no missing data. \n",
    "#we'll save this cleaned data\n",
    "\n",
    "drop2.to_csv(os.path.join(data_dir,\"cleanNBA.csv\"), index=False)"
   ]
  },
  {
   "cell_type": "code",
   "execution_count": null,
   "metadata": {},
   "outputs": [],
   "source": [
    "drop2.shape[0]/2"
   ]
  },
  {
   "cell_type": "code",
   "execution_count": null,
   "metadata": {},
   "outputs": [],
   "source": [
    "pd.options.display.max_columns = 15\n",
    "drop2[drop2['GAME_ID']==21900969]"
   ]
  },
  {
   "cell_type": "code",
   "execution_count": null,
   "metadata": {},
   "outputs": [],
   "source": [
    "teams = np.unique(drop2['TEAM_NAME'])"
   ]
  },
  {
   "cell_type": "code",
   "execution_count": null,
   "metadata": {},
   "outputs": [],
   "source": [
    "teams"
   ]
  },
  {
   "cell_type": "code",
   "execution_count": null,
   "metadata": {},
   "outputs": [],
   "source": []
  }
 ],
 "metadata": {
  "kernelspec": {
   "display_name": "Python 3",
   "language": "python",
   "name": "python3"
  },
  "language_info": {
   "codemirror_mode": {
    "name": "ipython",
    "version": 3
   },
   "file_extension": ".py",
   "mimetype": "text/x-python",
   "name": "python",
   "nbconvert_exporter": "python",
   "pygments_lexer": "ipython3",
   "version": "3.7.3"
  }
 },
 "nbformat": 4,
 "nbformat_minor": 2
}
